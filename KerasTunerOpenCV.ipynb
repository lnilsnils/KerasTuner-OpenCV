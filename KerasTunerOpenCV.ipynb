{
 "cells": [
  {
   "cell_type": "code",
   "execution_count": 2,
   "metadata": {},
   "outputs": [],
   "source": [
    "import numpy as np\n",
    "import cv2\n",
    "from sklearn.model_selection import train_test_split\n",
    "import matplotlib.pyplot as plt\n",
    "import os\n",
    "import keras_tuner \n",
    "import tensorflow as tf\n",
    "import tensorflow.keras\n",
    "from keras.utils.np_utils import to_categorical\n",
    "#from keras.preprocessing.image import ImageDataGenerator"
   ]
  },
  {
   "cell_type": "code",
   "execution_count": 3,
   "metadata": {
    "scrolled": true
   },
   "outputs": [],
   "source": [
    "path = 'Desktop\\\\myData'\n",
    "myList = os.listdir(path)\n",
    "TestRatio = 0.2\n",
    "ValRatio = 0.2\n",
    "threshold = 0.6\n",
    "NumClasses = len(myList)"
   ]
  },
  {
   "cell_type": "code",
   "execution_count": 4,
   "metadata": {
    "scrolled": true
   },
   "outputs": [
    {
     "name": "stdout",
     "output_type": "stream",
     "text": [
      "0\n",
      "1\n",
      "2\n",
      "3\n",
      "4\n",
      "5\n",
      "6\n",
      "7\n",
      "8\n",
      "9\n"
     ]
    }
   ],
   "source": [
    "#read in data\n",
    "images = []\n",
    "ClassVals =[]\n",
    "for x in range(0,NumClasses):\n",
    "    #open each folder\n",
    "    NumList = os.listdir(path+'/'+str(x))\n",
    "    #list for x\n",
    "    for y in NumList:\n",
    "        curImg = cv2.imread(path+'/'+str(x)+'/'+y)\n",
    "        curImg = cv2.resize(curImg,(32,32))\n",
    "        images.append(curImg)\n",
    "        #list for y\n",
    "        ClassVals.append(x)\n",
    "    print(x)   "
   ]
  },
  {
   "cell_type": "code",
   "execution_count": 5,
   "metadata": {},
   "outputs": [],
   "source": [
    "images = np.array(images)\n",
    "ClassVals = np.array(ClassVals)"
   ]
  },
  {
   "cell_type": "code",
   "execution_count": 6,
   "metadata": {
    "scrolled": true
   },
   "outputs": [
    {
     "name": "stdout",
     "output_type": "stream",
     "text": [
      "size images: (10160, 32, 32, 3)\n",
      "Class values: (10160,)\n"
     ]
    }
   ],
   "source": [
    "print(\"size images:\", images.shape)\n",
    "print(\"Class values:\", ClassVals.shape)"
   ]
  },
  {
   "cell_type": "code",
   "execution_count": 7,
   "metadata": {},
   "outputs": [],
   "source": [
    "#splitting data\n",
    "X_train, X_test, y_train, y_test = train_test_split(images, ClassVals, test_size = TestRatio)\n",
    "X_train, X_validation, y_train, y_validation = train_test_split(X_train, y_train, test_size = ValRatio)"
   ]
  },
  {
   "cell_type": "code",
   "execution_count": 8,
   "metadata": {
    "scrolled": false
   },
   "outputs": [
    {
     "name": "stdout",
     "output_type": "stream",
     "text": [
      "size train set: (6502, 32, 32, 3)\n",
      "size test set: (2032, 32, 32, 3)\n",
      "size validation set: (1626, 32, 32, 3)\n"
     ]
    }
   ],
   "source": [
    "print(\"size train set:\", X_train.shape)\n",
    "print(\"size test set:\", X_test.shape)\n",
    "print(\"size validation set:\", X_validation.shape)"
   ]
  },
  {
   "cell_type": "code",
   "execution_count": 9,
   "metadata": {
    "scrolled": true
   },
   "outputs": [],
   "source": [
    "#can remove the next two cells?\n",
    "len_classes =[]\n",
    "for x in range(0,NumClasses):\n",
    "    len_classes.append(len(np.where(y_train==x)[0]))"
   ]
  },
  {
   "cell_type": "code",
   "execution_count": 10,
   "metadata": {
    "scrolled": true
   },
   "outputs": [
    {
     "data": {
      "image/png": "[encoded data removed]",
      "text/plain": [
       "<Figure size 720x360 with 1 Axes>"
      ]
     },
     "metadata": {
      "needs_background": "light"
     },
     "output_type": "display_data"
    }
   ],
   "source": [
    "plt.figure(figsize=(10,5))\n",
    "plt.bar(range(0, NumClasses), len_classes)\n",
    "plt.title(\"Nr. images per class\")\n",
    "plt.xlabel(\"class-id\")\n",
    "plt.ylabel(\"Nr of images\")\n",
    "plt.show()"
   ]
  },
  {
   "cell_type": "code",
   "execution_count": 11,
   "metadata": {},
   "outputs": [],
   "source": [
    "#add these parts in previous for loop!?\n",
    "def preProcessing(img):\n",
    "    img = cv2.cvtColor(img, cv2.COLOR_BGR2GRAY)\n",
    "    img = cv2.equalizeHist(img)\n",
    "    img = img/255\n",
    "    return img"
   ]
  },
  {
   "cell_type": "code",
   "execution_count": 12,
   "metadata": {},
   "outputs": [],
   "source": [
    "X_train = np.array(list(map(preProcessing, X_train)))\n",
    "X_test = np.array(list(map(preProcessing, X_test)))\n",
    "X_validation = np.array(list(map(preProcessing, X_validation)))"
   ]
  },
  {
   "cell_type": "code",
   "execution_count": 13,
   "metadata": {},
   "outputs": [],
   "source": [
    "X_train = X_train.reshape(X_train.shape[0], X_train.shape[1], X_train.shape[2], 1)\n",
    "X_test = X_test.reshape(X_test.shape[0], X_test.shape[1], X_test.shape[2], 1)\n",
    "X_validation = X_validation.reshape(X_validation.shape[0], X_validation.shape[1], X_validation.shape[2], 1)"
   ]
  },
  {
   "cell_type": "code",
   "execution_count": 14,
   "metadata": {},
   "outputs": [],
   "source": [
    "dataGen = tf.keras.preprocessing.image.ImageDataGenerator(width_shift_range=0.1, height_shift_range=0.1, zoom_range=0.2, shear_range=0.1, rotation_range=10)"
   ]
  },
  {
   "cell_type": "code",
   "execution_count": 17,
   "metadata": {},
   "outputs": [],
   "source": [
    "dataGen.fit(X_train)\n",
    "\n",
    "y_train = to_categorical(y_train, NumClasses)\n",
    "y_test = to_categorical(y_test, NumClasses)\n",
    "y_validation = to_categorical(y_validation, NumClasses)"
   ]
  },
  {
   "cell_type": "code",
   "execution_count": 26,
   "metadata": {},
   "outputs": [],
   "source": [
    "def myModel(hp):\n",
    "    \n",
    "    sizeOfFilter1 = (5,5)\n",
    "    sizeOfFilter2 = (3,3)\n",
    "    sizeOfPool = (2,2)\n",
    "    noOfNodes = 500\n",
    "    \n",
    "    model = tf.keras.Sequential()\n",
    "    model.add(tf.keras.layers.Conv2D(filters=hp.Int('Conv1_filter', min_value=32, max_value=128, step=16), kernel_size=sizeOfFilter1, input_shape=(32,32,1), activation='relu'))\n",
    "    model.add(tf.keras.layers.Conv2D(filters=hp.Int('Conv2_filter', min_value=32, max_value=128, step=16), kernel_size=sizeOfFilter1, activation='relu'))\n",
    "    model.add(tf.keras.layers.MaxPooling2D(pool_size=sizeOfPool))\n",
    "    model.add(tf.keras.layers.Conv2D(filters=hp.Int('Conv3_filter', min_value=32, max_value=128, step=16), kernel_size=sizeOfFilter2, activation='relu'))\n",
    "    model.add(tf.keras.layers.Conv2D(filters=hp.Int('Conv4_filter', min_value=32, max_value=128, step=16), kernel_size=sizeOfFilter2, activation='relu'))\n",
    "    model.add(tf.keras.layers.MaxPooling2D(pool_size=sizeOfPool))\n",
    "    model.add(tf.keras.layers.Dropout(0.5))\n",
    "    \n",
    "    model.add(tf.keras.layers.Flatten())\n",
    "    model.add(tf.keras.layers.Dense(noOfNodes, activation='relu'))\n",
    "    model.add(tf.keras.layers.Dropout(0.5))\n",
    "    model.add(tf.keras.layers.Dense(NumClasses, activation='softmax'))\n",
    "\n",
    "    model.compile(optimizer=tf.keras.optimizers.Adam(learning_rate=0.001), loss='categorical_crossentropy', metrics=['accuracy'])\n",
    "    return(model)"
   ]
  },
  {
   "cell_type": "code",
   "execution_count": 27,
   "metadata": {},
   "outputs": [],
   "source": [
    "#keras-tuner\n",
    "tuner = keras_tuner.RandomSearch(\n",
    "    myModel,\n",
    "    objective='val_accuracy',\n",
    "    max_trials=5,\n",
    "    executions_per_trial=5,\n",
    "    directory='output',\n",
    "    project_name=\"Digit-Recognizer\")"
   ]
  },
  {
   "cell_type": "code",
   "execution_count": 28,
   "metadata": {
    "scrolled": false
   },
   "outputs": [
    {
     "name": "stdout",
     "output_type": "stream",
     "text": [
      "Search space summary\n",
      "Default search space size: 4\n",
      "Conv1_filter (Int)\n",
      "{'default': None, 'conditions': [], 'min_value': 32, 'max_value': 128, 'step': 16, 'sampling': None}\n",
      "Conv2_filter (Int)\n",
      "{'default': None, 'conditions': [], 'min_value': 32, 'max_value': 128, 'step': 16, 'sampling': None}\n",
      "Conv3_filter (Int)\n",
      "{'default': None, 'conditions': [], 'min_value': 32, 'max_value': 128, 'step': 16, 'sampling': None}\n",
      "Conv4_filter (Int)\n",
      "{'default': None, 'conditions': [], 'min_value': 32, 'max_value': 128, 'step': 16, 'sampling': None}\n"
     ]
    }
   ],
   "source": [
    "tuner.search_space_summary()"
   ]
  },
  {
   "cell_type": "code",
   "execution_count": 29,
   "metadata": {
    "scrolled": false
   },
   "outputs": [
    {
     "name": "stdout",
     "output_type": "stream",
     "text": [
      "Trial 5 Complete [00h 06m 45s]\n",
      "val_accuracy: 0.9931119322776795\n",
      "\n",
      "Best val_accuracy So Far: 0.9943419337272644\n",
      "Total elapsed time: 00h 39m 19s\n",
      "INFO:tensorflow:Oracle triggered exit\n"
     ]
    }
   ],
   "source": [
    "tuner.search(X_train, y_train, epochs=5, validation_data=(X_validation, y_validation))"
   ]
  },
  {
   "cell_type": "code",
   "execution_count": 38,
   "metadata": {},
   "outputs": [
    {
     "name": "stdout",
     "output_type": "stream",
     "text": [
      "Results summary\n",
      "Results in output\\Digit-Recognizer\n",
      "Showing 10 best trials\n",
      "Objective(name='val_accuracy', direction='max')\n",
      "Trial summary\n",
      "Hyperparameters:\n",
      "Conv1_filter: 48\n",
      "Conv2_filter: 96\n",
      "Conv3_filter: 96\n",
      "Conv4_filter: 96\n",
      "Score: 0.9943419337272644\n",
      "Trial summary\n",
      "Hyperparameters:\n",
      "Conv1_filter: 96\n",
      "Conv2_filter: 64\n",
      "Conv3_filter: 112\n",
      "Conv4_filter: 112\n",
      "Score: 0.9933579325675964\n",
      "Trial summary\n",
      "Hyperparameters:\n",
      "Conv1_filter: 32\n",
      "Conv2_filter: 96\n",
      "Conv3_filter: 112\n",
      "Conv4_filter: 112\n",
      "Score: 0.9932349324226379\n",
      "Trial summary\n",
      "Hyperparameters:\n",
      "Conv1_filter: 48\n",
      "Conv2_filter: 96\n",
      "Conv3_filter: 96\n",
      "Conv4_filter: 64\n",
      "Score: 0.9931119322776795\n",
      "Trial summary\n",
      "Hyperparameters:\n",
      "Conv1_filter: 96\n",
      "Conv2_filter: 112\n",
      "Conv3_filter: 128\n",
      "Conv4_filter: 48\n",
      "Score: 0.9928659319877624\n"
     ]
    }
   ],
   "source": [
    "tuner.results_summary()"
   ]
  },
  {
   "cell_type": "code",
   "execution_count": 54,
   "metadata": {},
   "outputs": [],
   "source": [
    "#model with tuned hyperparameter\n",
    "def OptModel():\n",
    "    sizeOfFilter1 = (5,5)\n",
    "    sizeOfFilter2 = (3,3)\n",
    "    sizeOfPool = (2,2)\n",
    "    noOfNodes = 500\n",
    "\n",
    "    model = tf.keras.Sequential()\n",
    "    model.add((tf.keras.layers.Conv2D(48, sizeOfFilter1, input_shape=(32,32,1), activation='relu')))\n",
    "    model.add((tf.keras.layers.Conv2D(96, sizeOfFilter1, activation='relu')))\n",
    "    model.add(tf.keras.layers.MaxPooling2D(pool_size=sizeOfPool))\n",
    "    model.add((tf.keras.layers.Conv2D(96, sizeOfFilter2, activation='relu')))\n",
    "    model.add((tf.keras.layers.Conv2D(96, sizeOfFilter2, activation='relu')))\n",
    "    model.add(tf.keras.layers.MaxPooling2D(pool_size=sizeOfPool))\n",
    "    model.add(tf.keras.layers.Dropout(0.5))\n",
    "    \n",
    "    model.add(tf.keras.layers.Flatten())\n",
    "    model.add(tf.keras.layers.Dense(noOfNodes, activation='relu'))\n",
    "    model.add(tf.keras.layers.Dropout(0.5))\n",
    "    model.add(tf.keras.layers.Dense(NumClasses, activation='softmax'))\n",
    "    model.compile(optimizer=tf.keras.optimizers.Adam(learning_rate=0.001), loss='categorical_crossentropy', metrics=['accuracy'])\n",
    "    \n",
    "    return(model)"
   ]
  },
  {
   "cell_type": "code",
   "execution_count": 56,
   "metadata": {
    "scrolled": false
   },
   "outputs": [
    {
     "name": "stdout",
     "output_type": "stream",
     "text": [
      "Epoch 1/20\n",
      "130/130 [==============================] - 15s 109ms/step - loss: 1.0034 - accuracy: 0.6509 - val_loss: 0.0780 - val_accuracy: 0.9779\n",
      "Epoch 2/20\n",
      "130/130 [==============================] - 14s 107ms/step - loss: 0.2710 - accuracy: 0.9149 - val_loss: 0.0819 - val_accuracy: 0.9717\n",
      "Epoch 3/20\n",
      "130/130 [==============================] - 16s 127ms/step - loss: 0.1736 - accuracy: 0.9437 - val_loss: 0.0320 - val_accuracy: 0.9908\n",
      "Epoch 4/20\n",
      "130/130 [==============================] - 16s 126ms/step - loss: 0.1489 - accuracy: 0.9489 - val_loss: 0.0329 - val_accuracy: 0.9926\n",
      "Epoch 5/20\n",
      "130/130 [==============================] - 14s 108ms/step - loss: 0.1235 - accuracy: 0.9596 - val_loss: 0.0206 - val_accuracy: 0.9938\n",
      "Epoch 6/20\n",
      "130/130 [==============================] - 16s 119ms/step - loss: 0.1253 - accuracy: 0.9640 - val_loss: 0.0285 - val_accuracy: 0.9914\n",
      "Epoch 7/20\n",
      "130/130 [==============================] - 14s 111ms/step - loss: 0.1037 - accuracy: 0.9672 - val_loss: 0.0168 - val_accuracy: 0.9951\n",
      "Epoch 8/20\n",
      "130/130 [==============================] - 15s 112ms/step - loss: 0.0859 - accuracy: 0.9720 - val_loss: 0.0136 - val_accuracy: 0.9951\n",
      "Epoch 9/20\n",
      "130/130 [==============================] - 15s 112ms/step - loss: 0.0848 - accuracy: 0.9723 - val_loss: 0.0369 - val_accuracy: 0.9889\n",
      "Epoch 10/20\n",
      "130/130 [==============================] - 14s 110ms/step - loss: 0.1012 - accuracy: 0.9669 - val_loss: 0.0151 - val_accuracy: 0.9945\n",
      "Epoch 11/20\n",
      "130/130 [==============================] - 14s 111ms/step - loss: 0.1046 - accuracy: 0.9683 - val_loss: 0.0247 - val_accuracy: 0.9926\n",
      "Epoch 12/20\n",
      "130/130 [==============================] - 14s 107ms/step - loss: 0.0816 - accuracy: 0.9719 - val_loss: 0.0110 - val_accuracy: 0.9963\n",
      "Epoch 13/20\n",
      "130/130 [==============================] - 15s 114ms/step - loss: 0.0669 - accuracy: 0.9782 - val_loss: 0.0137 - val_accuracy: 0.9932\n",
      "Epoch 14/20\n",
      "130/130 [==============================] - 14s 108ms/step - loss: 0.0658 - accuracy: 0.9754 - val_loss: 0.0117 - val_accuracy: 0.9951\n",
      "Epoch 15/20\n",
      "130/130 [==============================] - 14s 108ms/step - loss: 0.0573 - accuracy: 0.9811 - val_loss: 0.0110 - val_accuracy: 0.9957\n",
      "Epoch 16/20\n",
      "130/130 [==============================] - 15s 113ms/step - loss: 0.0561 - accuracy: 0.9832 - val_loss: 0.0094 - val_accuracy: 0.9963\n",
      "Epoch 17/20\n",
      "130/130 [==============================] - 16s 122ms/step - loss: 0.0564 - accuracy: 0.9829 - val_loss: 0.0096 - val_accuracy: 0.9963\n",
      "Epoch 18/20\n",
      "130/130 [==============================] - 16s 121ms/step - loss: 0.0489 - accuracy: 0.9854 - val_loss: 0.0114 - val_accuracy: 0.9963\n",
      "Epoch 19/20\n",
      "130/130 [==============================] - 15s 115ms/step - loss: 0.0527 - accuracy: 0.9831 - val_loss: 0.0081 - val_accuracy: 0.9982\n",
      "Epoch 20/20\n",
      "130/130 [==============================] - 14s 108ms/step - loss: 0.0438 - accuracy: 0.9872 - val_loss: 0.0081 - val_accuracy: 0.9975\n"
     ]
    }
   ],
   "source": [
    "model = OptModel()\n",
    "batchSize = 50\n",
    "epochsVal = 20\n",
    "stepsPerEpochs = 2000\n",
    "\n",
    "history = model.fit(dataGen.flow(X_train, y_train, batch_size = batchSize), steps_per_epoch = len(X_train)/batchSize,\n",
    "                                 epochs = epochsVal, validation_data = (X_validation, y_validation), \n",
    "                                 shuffle =1)\n",
    "\n",
    "# steps_per_epoch = stepsPerEpochs,\n",
    "#len(X_train)/batchSize"
   ]
  },
  {
   "cell_type": "code",
   "execution_count": 57,
   "metadata": {
    "scrolled": true
   },
   "outputs": [
    {
     "data": {
      "image/png": "[encoded data removed]",
      "text/plain": [
       "<Figure size 432x288 with 1 Axes>"
      ]
     },
     "metadata": {
      "needs_background": "light"
     },
     "output_type": "display_data"
    },
    {
     "data": {
      "image/png": "[encoded data removed]",
      "text/plain": [
       "<Figure size 432x288 with 1 Axes>"
      ]
     },
     "metadata": {
      "needs_background": "light"
     },
     "output_type": "display_data"
    }
   ],
   "source": [
    "plt.figure(1)\n",
    "plt.plot(history.history['loss'])\n",
    "plt.plot(history.history['val_loss'])\n",
    "plt.legend(['training', 'validation'])\n",
    "plt.title('loss')\n",
    "plt.xlabel('epoch')\n",
    "\n",
    "plt.figure(2)\n",
    "plt.plot(history.history['accuracy'])\n",
    "plt.plot(history.history['val_accuracy'])\n",
    "plt.legend(['training', 'validation'])\n",
    "plt.title('accuracy')\n",
    "plt.xlabel('epoch')\n",
    "plt.show()"
   ]
  },
  {
   "cell_type": "code",
   "execution_count": 58,
   "metadata": {
    "scrolled": false
   },
   "outputs": [
    {
     "name": "stdout",
     "output_type": "stream",
     "text": [
      "Test score =  0.021844198927283287\n",
      "Test accuracy =  0.9955708384513855\n"
     ]
    }
   ],
   "source": [
    "score = model.evaluate(X_test, y_test, verbose=0) \n",
    "print('Test score = ', score[0]) \n",
    "print('Test accuracy = ', score[1])"
   ]
  },
  {
   "cell_type": "code",
   "execution_count": null,
   "metadata": {},
   "outputs": [],
   "source": [
    "width = 640\n",
    "height = 480"
   ]
  },
  {
   "cell_type": "code",
   "execution_count": null,
   "metadata": {
    "scrolled": false
   },
   "outputs": [],
   "source": [
    "cap = cv2.VideoCapture(0)\n",
    "cap.set(3, width)\n",
    "cap.set(4, height)"
   ]
  },
  {
   "cell_type": "code",
   "execution_count": null,
   "metadata": {},
   "outputs": [],
   "source": [
    " while True:\n",
    "    success, imgOriginal = cap.read()\n",
    "    img = np.asarray(imgOriginal)\n",
    "    img = cv2.resize(img,(32,32))\n",
    "    img = preProcessing(img)\n",
    "    cv2.imshow(\"Processed image\", img)\n",
    "    img = img.reshape(1,32,32,1)\n",
    "    \n",
    "    classIndex = int(np.argmax(model.predict(img), axis=-1))\n",
    "    #print(classIndex)\n",
    "    \n",
    "    predictions = model.predict(img)\n",
    "    #print(predictions)\n",
    "    probVal = np.amax(predictions)\n",
    "    #print(classIndex, probVal)\n",
    "    \n",
    "    if probVal > threshold:\n",
    "        cv2.putText(imgOriginal, str(classIndex) +\" \"+ str(probVal), (50,50), cv2.FONT_HERSHEY_COMPLEX, 1, (0,0,255), 1)\n",
    "    cv2.imshow(\"original Image\", imgOriginal)\n",
    "    if cv2.waitKey(1) & 0xFF == ord('q'):\n",
    "        break"
   ]
  },
  {
   "cell_type": "code",
   "execution_count": null,
   "metadata": {},
   "outputs": [],
   "source": [
    "# After the loop release the cap object\n",
    "vid.release()\n",
    "# Close all windows\n",
    "cv2.destroyAllWindows()"
   ]
  }
 ],
 "metadata": {
  "kernelspec": {
   "display_name": "Python 3 (ipykernel)",
   "language": "python",
   "name": "python3"
  },
  "language_info": {
   "codemirror_mode": {
    "name": "ipython",
    "version": 3
   },
   "file_extension": ".py",
   "mimetype": "text/x-python",
   "name": "python",
   "nbconvert_exporter": "python",
   "pygments_lexer": "ipython3",
   "version": "3.9.7"
  }
 },
 "nbformat": 4,
 "nbformat_minor": 4
}
